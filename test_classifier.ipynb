{
 "cells": [
  {
   "cell_type": "markdown",
   "metadata": {
    "id": "4y8OHeztPrYn"
   },
   "source": [
    "# Testing the Trained Classifier"
   ]
  },
  {
   "cell_type": "markdown",
   "metadata": {
    "id": "bhjDMFSAPwRr"
   },
   "source": [
    "## Importing the Libraries"
   ]
  },
  {
   "cell_type": "code",
   "execution_count": 1,
   "metadata": {
    "id": "s1J1ybxREd38"
   },
   "outputs": [],
   "source": [
    "import keras\n",
    "import numpy as np\n",
    "import matplotlib.pyplot as plt\n",
    "from sklearn.metrics import confusion_matrix,classification_report\n",
    "from training_data import load_data, preprocess_data"
   ]
  },
  {
   "cell_type": "markdown",
   "metadata": {
    "id": "fhJrGkZEP3S1"
   },
   "source": [
    "## Downloading and Pre-processing the Dataset"
   ]
  },
  {
   "cell_type": "code",
   "execution_count": 2,
   "metadata": {
    "colab": {
     "base_uri": "https://localhost:8080/"
    },
    "id": "QEk0m0CmI27C",
    "outputId": "4a2c24ab-15ba-43ef-eb2b-f7344a8f55f9"
   },
   "outputs": [],
   "source": [
    "X_train, y_train, X_test, y_test = load_data()"
   ]
  },
  {
   "cell_type": "code",
   "execution_count": 3,
   "metadata": {
    "id": "7q8ZL74cyB8H"
   },
   "outputs": [],
   "source": [
    "X_train_classifier, y_train_classifier, X_val_classifier, y_val_classifier, X_test_classifier, y_test_classifier = preprocess_data(X_train, y_train, X_test, y_test)"
   ]
  },
  {
   "cell_type": "markdown",
   "metadata": {
    "id": "qBrUdYKsQDAC"
   },
   "source": [
    "## Loading the Trained model"
   ]
  },
  {
   "cell_type": "code",
   "execution_count": 4,
   "metadata": {
    "colab": {
     "base_uri": "https://localhost:8080/"
    },
    "id": "OlgBe4gkI5Tm",
    "outputId": "bfdc3948-3c89-4076-d83f-71cfb1a90c66"
   },
   "outputs": [
    {
     "name": "stdout",
     "output_type": "stream",
     "text": [
      "Model: \"sequential\"\n",
      "_________________________________________________________________\n",
      "Layer (type)                 Output Shape              Param #   \n",
      "=================================================================\n",
      "conv2d (Conv2D)              (None, 26, 26, 32)        320       \n",
      "_________________________________________________________________\n",
      "conv2d_1 (Conv2D)            (None, 24, 24, 32)        9248      \n",
      "_________________________________________________________________\n",
      "batch_normalization (BatchNo (None, 24, 24, 32)        128       \n",
      "_________________________________________________________________\n",
      "max_pooling2d (MaxPooling2D) (None, 12, 12, 32)        0         \n",
      "_________________________________________________________________\n",
      "dropout (Dropout)            (None, 12, 12, 32)        0         \n",
      "_________________________________________________________________\n",
      "conv2d_2 (Conv2D)            (None, 10, 10, 64)        18496     \n",
      "_________________________________________________________________\n",
      "conv2d_3 (Conv2D)            (None, 8, 8, 64)          36928     \n",
      "_________________________________________________________________\n",
      "batch_normalization_1 (Batch (None, 8, 8, 64)          256       \n",
      "_________________________________________________________________\n",
      "max_pooling2d_1 (MaxPooling2 (None, 4, 4, 64)          0         \n",
      "_________________________________________________________________\n",
      "dropout_1 (Dropout)          (None, 4, 4, 64)          0         \n",
      "_________________________________________________________________\n",
      "flatten (Flatten)            (None, 1024)              0         \n",
      "_________________________________________________________________\n",
      "dense (Dense)                (None, 128)               131200    \n",
      "_________________________________________________________________\n",
      "batch_normalization_2 (Batch (None, 128)               512       \n",
      "_________________________________________________________________\n",
      "dropout_2 (Dropout)          (None, 128)               0         \n",
      "_________________________________________________________________\n",
      "dense_1 (Dense)              (None, 10)                1290      \n",
      "=================================================================\n",
      "Total params: 198,378\n",
      "Trainable params: 197,930\n",
      "Non-trainable params: 448\n",
      "_________________________________________________________________\n"
     ]
    }
   ],
   "source": [
    "model = keras.models.load_model(\"classifier.h5\")\n",
    "model.summary()"
   ]
  },
  {
   "cell_type": "markdown",
   "metadata": {
    "id": "kzfPEHEFQKdf"
   },
   "source": [
    "## Confussion Matrix and Classification Report"
   ]
  },
  {
   "cell_type": "markdown",
   "metadata": {
    "id": "i1bo1xSdQPlg"
   },
   "source": [
    "predicting the test dataset"
   ]
  },
  {
   "cell_type": "code",
   "execution_count": 5,
   "metadata": {
    "id": "RnFgAQZiI8hm"
   },
   "outputs": [],
   "source": [
    "y_true = np.argmax(y_test_classifier,axis=1)\n",
    "y_p = model.predict(X_test_classifier)\n",
    "y_predicted = np.argmax(y_p,axis=1)"
   ]
  },
  {
   "cell_type": "markdown",
   "metadata": {
    "id": "JL3ABRQ7QU3u"
   },
   "source": [
    "the confussion matrix for the classified testing dataset"
   ]
  },
  {
   "cell_type": "code",
   "execution_count": 6,
   "metadata": {
    "colab": {
     "base_uri": "https://localhost:8080/"
    },
    "id": "DtDqlvINI_0D",
    "outputId": "abeb815c-a2fc-4015-8341-5e677f7f9f99"
   },
   "outputs": [
    {
     "name": "stdout",
     "output_type": "stream",
     "text": [
      "confusion matrix\n",
      "[[ 977    0    0    0    0    0    2    1    0    0]\n",
      " [   0 1131    1    0    0    0    1    0    2    0]\n",
      " [   1    1 1028    0    0    0    0    1    1    0]\n",
      " [   0    0    1 1004    0    3    0    0    2    0]\n",
      " [   0    0    0    0  976    0    1    0    0    5]\n",
      " [   1    0    0    5    0  881    4    1    0    0]\n",
      " [   4    1    0    1    1    2  946    0    3    0]\n",
      " [   0    2    9    1    0    0    0 1012    2    2]\n",
      " [   0    0    2    1    0    0    0    0  970    1]\n",
      " [   2    0    0    0    2    4    0    2    3  996]]\n"
     ]
    }
   ],
   "source": [
    "print('confusion matrix')\n",
    "print(confusion_matrix(y_true,y_predicted))"
   ]
  },
  {
   "cell_type": "markdown",
   "metadata": {
    "id": "9t-tysW5Qa7J"
   },
   "source": [
    "classifiaction report from the test dataset for the trained model"
   ]
  },
  {
   "cell_type": "code",
   "execution_count": 7,
   "metadata": {
    "colab": {
     "base_uri": "https://localhost:8080/"
    },
    "id": "7KwRTM-nJD8v",
    "outputId": "3b54aab9-3184-4d5e-c25b-9a503e7693fa"
   },
   "outputs": [
    {
     "name": "stdout",
     "output_type": "stream",
     "text": [
      "Classification report\n",
      "              precision    recall  f1-score   support\n",
      "\n",
      "           0       0.99      1.00      0.99       980\n",
      "           1       1.00      1.00      1.00      1135\n",
      "           2       0.99      1.00      0.99      1032\n",
      "           3       0.99      0.99      0.99      1010\n",
      "           4       1.00      0.99      1.00       982\n",
      "           5       0.99      0.99      0.99       892\n",
      "           6       0.99      0.99      0.99       958\n",
      "           7       1.00      0.98      0.99      1028\n",
      "           8       0.99      1.00      0.99       974\n",
      "           9       0.99      0.99      0.99      1009\n",
      "\n",
      "    accuracy                           0.99     10000\n",
      "   macro avg       0.99      0.99      0.99     10000\n",
      "weighted avg       0.99      0.99      0.99     10000\n",
      "\n"
     ]
    }
   ],
   "source": [
    "print('Classification report')\n",
    "print(classification_report(y_true,y_predicted))"
   ]
  },
  {
   "cell_type": "markdown",
   "metadata": {
    "id": "F_5m0DCfQpuH"
   },
   "source": [
    "## Visual Representation"
   ]
  },
  {
   "cell_type": "markdown",
   "metadata": {
    "id": "THEFQgkeQx01"
   },
   "source": [
    "the test image visual representation"
   ]
  },
  {
   "cell_type": "code",
   "execution_count": 8,
   "metadata": {
    "colab": {
     "base_uri": "https://localhost:8080/",
     "height": 265
    },
    "id": "HvOLrkTeJSBL",
    "outputId": "f4161297-9ac7-4db5-d468-4f43b27e4df6"
   },
   "outputs": [
    {
     "data": {
      "image/png": "[encoded data removed]",
      "text/plain": [
       "<Figure size 432x288 with 1 Axes>"
      ]
     },
     "metadata": {
      "needs_background": "light"
     },
     "output_type": "display_data"
    }
   ],
   "source": [
    "test_image = X_test[101]\n",
    "\n",
    "plt.imshow(test_image)\n",
    "plt.show()"
   ]
  },
  {
   "cell_type": "markdown",
   "metadata": {
    "id": "Jn33ne9OQ2B6"
   },
   "source": [
    "the true label assiciated with the image"
   ]
  },
  {
   "cell_type": "code",
   "execution_count": 9,
   "metadata": {
    "colab": {
     "base_uri": "https://localhost:8080/"
    },
    "id": "WkjCh1BmJVGI",
    "outputId": "b1aacf5b-e6bb-40f3-f6ed-02de9e09e1a3"
   },
   "outputs": [
    {
     "name": "stdout",
     "output_type": "stream",
     "text": [
      "number_original:  0\n"
     ]
    }
   ],
   "source": [
    "print(\"number_original: \", y_test[101])"
   ]
  },
  {
   "cell_type": "markdown",
   "metadata": {
    "id": "nZFatUcNQ75x"
   },
   "source": [
    "preparing the input test image to feed into the model"
   ]
  },
  {
   "cell_type": "code",
   "execution_count": 10,
   "metadata": {
    "id": "3ULynTJsJXiG"
   },
   "outputs": [],
   "source": [
    "model_image = np.expand_dims(test_image,-1)\n",
    "model_image = np.expand_dims(model_image,0)"
   ]
  },
  {
   "cell_type": "markdown",
   "metadata": {
    "id": "fwQqOaHpRBH1"
   },
   "source": [
    "predicting the image class from the model"
   ]
  },
  {
   "cell_type": "code",
   "execution_count": 11,
   "metadata": {
    "id": "oec97l-gJZf0"
   },
   "outputs": [],
   "source": [
    "prediction = model.predict(model_image)\n",
    "number_predicted = np.argmax(prediction,axis=1)"
   ]
  },
  {
   "cell_type": "markdown",
   "metadata": {
    "id": "_rAujezSRFGw"
   },
   "source": [
    "predicted number by the model"
   ]
  },
  {
   "cell_type": "code",
   "execution_count": 12,
   "metadata": {
    "colab": {
     "base_uri": "https://localhost:8080/"
    },
    "id": "6OjmphWlJcdy",
    "outputId": "7f211b8e-846b-47de-dd08-b862f00ae0b3"
   },
   "outputs": [
    {
     "name": "stdout",
     "output_type": "stream",
     "text": [
      "number_predicted:  0\n"
     ]
    }
   ],
   "source": [
    "print(\"number_predicted: \", int(number_predicted))"
   ]
  },
  {
   "cell_type": "code",
   "execution_count": null,
   "metadata": {
    "id": "OPlzPzHaJe8j"
   },
   "outputs": [],
   "source": []
  }
 ],
 "metadata": {
  "colab": {
   "collapsed_sections": [],
   "name": "test_classifier.ipynb",
   "provenance": []
  },
  "kernelspec": {
   "display_name": "Python 3",
   "language": "python",
   "name": "python3"
  },
  "language_info": {
   "codemirror_mode": {
    "name": "ipython",
    "version": 3
   },
   "file_extension": ".py",
   "mimetype": "text/x-python",
   "name": "python",
   "nbconvert_exporter": "python",
   "pygments_lexer": "ipython3",
   "version": "3.7.4"
  }
 },
 "nbformat": 4,
 "nbformat_minor": 1
}
